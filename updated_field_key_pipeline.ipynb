{
 "cells": [
  {
   "cell_type": "markdown",
   "id": "0",
   "metadata": {},
   "source": [
    "## Setup"
   ]
  },
  {
   "cell_type": "markdown",
   "id": "1",
   "metadata": {},
   "source": [
    "### Install Packages"
   ]
  },
  {
   "cell_type": "code",
   "execution_count": null,
   "id": "2",
   "metadata": {},
   "outputs": [],
   "source": [
    "import logging\n",
    "import os\n",
    "import pickle\n",
    "import re\n",
    "import sys\n",
    "from pathlib import Path\n",
    "import matplotlib.pyplot as plt\n",
    "import numpy as np\n",
    "import pandas as pd\n",
    "import seaborn as sns\n",
    "import warnings"
   ]
  },
  {
   "cell_type": "code",
   "execution_count": null,
   "id": "3",
   "metadata": {},
   "outputs": [],
   "source": [
    "# ---- Paths ----\n",
    "PROJ_ROOT = Path.cwd()\n",
    "DATA_DIR = PROJ_ROOT / \"data\"\n",
    "CACHE_DIR = PROJ_ROOT / \"cache\"\n",
    "OUT_DIR = PROJ_ROOT / \"output\"\n",
    "\n",
    "DATA_DIR.mkdir(parents=True, exist_ok=True)\n",
    "CACHE_DIR.mkdir(parents=True, exist_ok=True)\n",
    "OUT_DIR.mkdir(parents=True, exist_ok=True)\n",
    "\n",
    "# ---- Reproducibility / Displayxs ----\n",
    "RNG_SEED = 42\n",
    "\n"
   ]
  },
  {
   "cell_type": "markdown",
   "id": "4",
   "metadata": {},
   "source": [
    "### Load Data"
   ]
  },
  {
   "cell_type": "code",
   "execution_count": null,
   "id": "5",
   "metadata": {},
   "outputs": [],
   "source": [
    "field_keys = pd.read_csv(\n",
    "    OUT_DIR / \"final_df.csv\"\n",
    ")\n",
    "field_keys_df = field_keys.reset_index(drop=True).copy()\n",
    "cols_ending_in_y = [col for col in field_keys_df.columns if col.endswith(\"_y\")]\n",
    "field_keys_df.drop(columns=cols_ending_in_y, inplace=True)\n",
    "\n",
    "cols_ending_in_x = [col for col in field_keys_df.columns if col.endswith(\"_x\")]\n",
    "field_keys_df.rename(columns={col: col[:-2] for col in cols_ending_in_x}, inplace=True)\n",
    "# Display the shape and head of the DataFrame\n",
    "logging.info(\n",
    "    \"fields_keys_df Rows: %d, Columns: %d\",\n",
    "    field_keys_df.shape[0],\n",
    "    field_keys_df.shape[1],\n",
    ")\n",
    "\n",
    "field_keys_df.head()"
   ]
  },
  {
   "cell_type": "markdown",
   "id": "6",
   "metadata": {},
   "source": [
    "### Helper Functions"
   ]
  },
  {
   "cell_type": "code",
   "execution_count": null,
   "id": "7",
   "metadata": {},
   "outputs": [],
   "source": [
    "def to_snake(text: str) -> str:\n",
    "  \"\"\"Normalize a field key into a snake_case.\n",
    "\n",
    "    Steps: substitute camelCase/PascalCase/kebab-case with snake_case,\n",
    "    lowercase,\n",
    "    strip non-alphanumerics (keep spaces), collapse whitespace.\n",
    "\n",
    "    Args:\n",
    "      text: Raw key text.\n",
    "\n",
    "    Returns:\n",
    "      Normalized string (possibly empty).\n",
    "    \"\"\"\n",
    "  if pd.isna(text):\n",
    "      return \"\"\n",
    "  s = str(text).strip()\n",
    "  s = re.sub(r\"(?<=[a-z0-9])(?=[A-Z])\", \"_\", s)   # split camelCase\n",
    "  s = s.lower()\n",
    "  s = re.sub(r\"[^a-z0-9_]+\", \"_\", s)              # non-word -> _\n",
    "  s = re.sub(r\"_{2,}\", \"_\", s).strip(\"_\")         # collapse/trim _\n",
    "  return s\n",
    "\n",
    "def style_ok(s: str) -> bool:\n",
    "    if not isinstance(s, str) or not s:\n",
    "        return False\n",
    "    if len(s) > STYLE[\"max_len\"]:\n",
    "        return False\n",
    "    if s.startswith(\"_\") or s.endswith(\"_\") or \"__\" in s:\n",
    "        return False\n",
    "    if not re.match(STYLE[\"allowed_charset\"], s):\n",
    "        return False\n",
    "    return True"
   ]
  },
  {
   "cell_type": "markdown",
   "id": "8",
   "metadata": {},
   "source": [
    "## Deterministic Baseline"
   ]
  },
  {
   "cell_type": "code",
   "execution_count": null,
   "id": "9",
   "metadata": {},
   "outputs": [],
   "source": [
    "# Filter the DataFrame\n",
    "condition = ((field_keys_df[\"field_type\"] == \"textarea\") & (field_keys_df[\"field_key exists in field_key_library?\"] == False))\n",
    "filtered_df = field_keys_df[condition]\n",
    "\n",
    "\n",
    "\n",
    "# Save the filtered DataFrame\n",
    "with open(CACHE_DIR / \"filtered_field_keys_df.pkl\", \"wb\") as f:\n",
    "    pickle.dump(filtered_df, f)\n",
    "\n",
    "\n",
    "\n",
    "\n",
    "    \n",
    "filtered_df.head()"
   ]
  },
  {
   "cell_type": "markdown",
   "id": "10",
   "metadata": {},
   "source": [
    "### Test to_snake function  "
   ]
  },
  {
   "cell_type": "code",
   "execution_count": null,
   "id": "11",
   "metadata": {},
   "outputs": [],
   "source": [
    "# Test key_normalize function\n",
    "test_cases = [\n",
    "    \"camelCaseExample\",\n",
    "    \"PascalCaseExample\",\n",
    "    \"snake_case_example\",\n",
    "    \"kebab-case-example\",\n",
    "    \"   extra   spaces   \",\n",
    "    \"special@characters!#$%^&*()\",\n",
    "    None\n",
    "]\n",
    "\n",
    "for case in test_cases:\n",
    "    print(f\"Input: {case}\\nNormalized: {to_snake(case)}\\n\")\n",
    "\n"
   ]
  },
  {
   "cell_type": "markdown",
   "id": "12",
   "metadata": {},
   "source": [
    "### Apply to_snake"
   ]
  },
  {
   "cell_type": "code",
   "execution_count": null,
   "id": "13",
   "metadata": {},
   "outputs": [],
   "source": [
    "warnings.filterwarnings(\"ignore\")\n",
    "\n",
    "# Normalize field keys and titles\n",
    "filtered_df[\"norm_key\"]   = filtered_df[\"field_key\"].map(to_snake)\n",
    "filtered_df[\"norm_title\"] = filtered_df[\"field_title\"].map(to_snake)\n",
    "\n",
    "# quick sanity preview\n",
    "filtered_df[[\"field_key\",\"norm_key\",\"field_title\",\"norm_title\"]].head(10)"
   ]
  },
  {
   "cell_type": "markdown",
   "id": "14",
   "metadata": {},
   "source": []
  },
  {
   "cell_type": "markdown",
   "id": "15",
   "metadata": {},
   "source": [
    "### Candidate Generator"
   ]
  },
  {
   "cell_type": "code",
   "execution_count": null,
   "id": "16",
   "metadata": {},
   "outputs": [],
   "source": [
    "import re\n",
    "\n",
    "STYLE = {\n",
    "    \"allowed_charset\": r\"^[a-z0-9_]+$\",\n",
    "    \"max_len\": 40,\n",
    "    \"banned_tokens\": {\"other\", \"misc\", \"tmp\", \"test\", \"sample\", \"new\"},\n",
    "}\n",
    "\n"
   ]
  },
  {
   "cell_type": "code",
   "execution_count": null,
   "id": "17",
   "metadata": {},
   "outputs": [],
   "source": [
    "5|3"
   ]
  },
  {
   "cell_type": "code",
   "execution_count": null,
   "id": "18",
   "metadata": {},
   "outputs": [],
   "source": []
  }
 ],
 "metadata": {
  "kernelspec": {
   "display_name": "Python (.venv field_keys_project)",
   "language": "python",
   "name": "field_keys_project"
  },
  "language_info": {
   "codemirror_mode": {
    "name": "ipython",
    "version": 3
   },
   "file_extension": ".py",
   "mimetype": "text/x-python",
   "name": "python",
   "nbconvert_exporter": "python",
   "pygments_lexer": "ipython3",
   "version": "3.11.13"
  }
 },
 "nbformat": 4,
 "nbformat_minor": 5
}
